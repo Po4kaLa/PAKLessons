{
 "cells": [
  {
   "cell_type": "code",
   "execution_count": 7,
   "metadata": {},
   "outputs": [],
   "source": [
    "class Pupa:\n",
    "    def __init__(self):\n",
    "        self.counter = 0\n",
    "    \n",
    "    def do_work(self, filename1, filename2):\n",
    "        matrix1 = self.read_matrix(filename1)\n",
    "        matrix2 = self.read_matrix(filename2)\n",
    "        result = self.sum_matrices(matrix1, matrix2)\n",
    "        self.print_result(result)\n",
    "\n",
    "    def read_matrix(self, filename):\n",
    "        with open(filename, 'r') as file:\n",
    "            matrix = []\n",
    "            for line in file:\n",
    "                row = [int(num) for num in line.strip().split()]\n",
    "                matrix.append(row)\n",
    "            return matrix\n",
    "    def sum_matrices(self, matrix1, matrix2):\n",
    "        if len(matrix1) != len(matrix2) or len(matrix1[0]) != len(matrix2[0]):\n",
    "            raise ValueError(\"Разный размер матриц\")\n",
    "        result = []\n",
    "        for i in range(len(matrix1)):\n",
    "            row = []\n",
    "            for j in range(len(matrix2)):\n",
    "                row.append(matrix1[i][j] + matrix2[i][j])\n",
    "            result.append(row)\n",
    "        return result\n",
    "    def print_result(self, result):\n",
    "        for row in result:\n",
    "            print(' '.join(str(num) for num in row))\n",
    "    def take_salary(self, amount):\n",
    "        self.counter += amount"
   ]
  },
  {
   "cell_type": "code",
   "execution_count": 14,
   "metadata": {},
   "outputs": [],
   "source": [
    "class Lupa:\n",
    "    def __init__(self):\n",
    "        self.counter = 0\n",
    "    \n",
    "    def do_work(self, filename1, filename2):\n",
    "        matrix1 = self.read_matrix(filename1)\n",
    "        matrix2 = self.read_matrix(filename2)\n",
    "        result = self.sub_matrices(matrix1, matrix2)\n",
    "        self.print_result(result)\n",
    "\n",
    "    def read_matrix(self, filename):\n",
    "        with open(filename, 'r') as file:\n",
    "            matrix = []\n",
    "            for line in file:\n",
    "                row = [int(num) for num in line.strip().split()]\n",
    "                matrix.append(row)\n",
    "            return matrix\n",
    "    def sub_matrices(self, matrix1, matrix2):\n",
    "        if len(matrix1) != len(matrix2) or len(matrix1[0]) != len(matrix2[0]):\n",
    "            raise ValueError(\"Разный размер матриц\")\n",
    "        result = []\n",
    "        for i in range(len(matrix1)):\n",
    "            row = []\n",
    "            for j in range(len(matrix2)):\n",
    "                row.append(matrix1[i][j] - matrix2[i][j])\n",
    "            result.append(row)\n",
    "        return result\n",
    "    def print_result(self, result):\n",
    "        for row in result:\n",
    "            print(' '.join(str(num) for num in row))\n",
    "    def take_salary(self, amount):\n",
    "        self.counter += amount"
   ]
  },
  {
   "cell_type": "code",
   "execution_count": 15,
   "metadata": {},
   "outputs": [],
   "source": [
    "class Accountant:\n",
    "    def give_salary(self, worker):\n",
    "        worker.take_salary(5)  "
   ]
  },
  {
   "cell_type": "code",
   "execution_count": 20,
   "metadata": {},
   "outputs": [
    {
     "data": {
      "text/plain": [
       "0"
      ]
     },
     "execution_count": 20,
     "metadata": {},
     "output_type": "execute_result"
    }
   ],
   "source": [
    "pupa = Pupa()\n",
    "lupa = Lupa()\n",
    "\n",
    "pupa.counter\n",
    "lupa.counter\n"
   ]
  },
  {
   "cell_type": "code",
   "execution_count": 21,
   "metadata": {},
   "outputs": [
    {
     "name": "stdout",
     "output_type": "stream",
     "text": [
      "4 5 6\n",
      "4 5 6\n",
      "4 5 6\n",
      "-2 -1 0\n",
      "-2 -1 0\n",
      "-2 -1 0\n"
     ]
    }
   ],
   "source": [
    "pupa.do_work(\"filename1.txt\", \"filename2.txt\")\n",
    "lupa.do_work(\"filename1.txt\", \"filename2.txt\")\n",
    "\n",
    "accountant = Accountant()\n",
    "accountant.give_salary(pupa)\n",
    "accountant.give_salary(lupa)"
   ]
  },
  {
   "cell_type": "code",
   "execution_count": 22,
   "metadata": {},
   "outputs": [
    {
     "data": {
      "text/plain": [
       "5"
      ]
     },
     "execution_count": 22,
     "metadata": {},
     "output_type": "execute_result"
    }
   ],
   "source": [
    "pupa.counter"
   ]
  },
  {
   "cell_type": "code",
   "execution_count": 23,
   "metadata": {},
   "outputs": [
    {
     "data": {
      "text/plain": [
       "5"
      ]
     },
     "execution_count": 23,
     "metadata": {},
     "output_type": "execute_result"
    }
   ],
   "source": [
    "lupa.counter"
   ]
  }
 ],
 "metadata": {
  "kernelspec": {
   "display_name": "Python 3",
   "language": "python",
   "name": "python3"
  },
  "language_info": {
   "codemirror_mode": {
    "name": "ipython",
    "version": 3
   },
   "file_extension": ".py",
   "mimetype": "text/x-python",
   "name": "python",
   "nbconvert_exporter": "python",
   "pygments_lexer": "ipython3",
   "version": "3.11.5"
  },
  "orig_nbformat": 4
 },
 "nbformat": 4,
 "nbformat_minor": 2
}
